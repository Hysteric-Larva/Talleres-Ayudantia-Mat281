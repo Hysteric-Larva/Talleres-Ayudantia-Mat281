{
 "cells": [
  {
   "cell_type": "code",
   "execution_count": null,
   "id": "bda19a21-c72e-4b0e-87db-f9c19b5820ac",
   "metadata": {},
   "outputs": [],
   "source": []
  },
  {
   "cell_type": "markdown",
   "id": "d135895d-87b1-4274-94c5-79416c66ff7c",
   "metadata": {},
   "source": [
    "# Taller 1 - Mat281: La importancia de las buenas prácticas en la programación\n"
   ]
  },
  {
   "cell_type": "code",
   "execution_count": null,
   "id": "a97120a8-82e5-4532-9615-289e88742ae5",
   "metadata": {},
   "outputs": [],
   "source": []
  }
 ],
 "metadata": {
  "kernelspec": {
   "display_name": "Python 3 (ipykernel)",
   "language": "python",
   "name": "python3"
  },
  "language_info": {
   "codemirror_mode": {
    "name": "ipython",
    "version": 3
   },
   "file_extension": ".py",
   "mimetype": "text/x-python",
   "name": "python",
   "nbconvert_exporter": "python",
   "pygments_lexer": "ipython3",
   "version": "3.11.7"
  }
 },
 "nbformat": 4,
 "nbformat_minor": 5
}
