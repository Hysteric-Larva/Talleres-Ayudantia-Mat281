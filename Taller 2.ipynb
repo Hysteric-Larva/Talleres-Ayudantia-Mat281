{
 "cells": [
  {
   "cell_type": "markdown",
   "id": "159b2433-8c2f-462e-b6c1-b67feb4564e6",
   "metadata": {},
   "source": [
    "# Taller 2 - Mat281: El poder de la información"
   ]
  },
  {
   "cell_type": "markdown",
   "id": "b1dda1d6-7830-47f4-8aba-7f4668bc8df4",
   "metadata": {},
   "source": [
    "### Segunda Guerra mundial (1939-1945)"
   ]
  },
  {
   "cell_type": "markdown",
   "id": "7e2918c3-265c-477c-ad57-9d8e63e6acab",
   "metadata": {},
   "source": [
    "Alan Turing, un matemático, lógico y criptógrafo británico, desempeñó un papel crucial en la Segunda Guerra Mundial al contribuir significativamente a la derrota de las potencias del Eje a través de sus innovaciones en el campo de la criptografía. Su trabajo en Bletchley Park, la sede de desciframiento de códigos del Reino Unido, fue fundamental para romper el código Enigma, un sistema de cifrado utilizado por los nazis para proteger sus comunicaciones militares.\n",
    "\n",
    "El código Enigma era considerado indescifrable debido a su complejidad y la vasta cantidad de combinaciones posibles. Sin embargo, Turing diseñó una máquina llamada \"Bombe\", que automatizaba el proceso de descifrado y permitía a los criptógrafos británicos leer mensajes encriptados por Enigma. Esto dio a los Aliados una ventaja estratégica al poder anticipar movimientos y tácticas alemanas, lo que se cree que acortó la guerra y salvó innumerables vidas.\n",
    "\n",
    "La labor de Turing puso en relieve la importancia de la información en la guerra. El acceso a inteligencia precisa y oportuna permitió a los Aliados tomar decisiones informadas y reaccionar rápidamente a las estrategias enemigas. La información, especialmente cuando es interceptada y descifrada, puede ser un factor determinante en el resultado de los conflictos. La capacidad de romper los códigos enemigos no solo permitió a los Aliados prevenir ataques, sino que también les dio la oportunidad de engañar y desinformar al enemigo, maximizando su ventaja en el campo de batalla."
   ]
  },
  {
   "cell_type": "markdown",
   "id": "c09e0b82-4cf6-4d16-b1bb-f3b03395e06c",
   "metadata": {},
   "source": [
    "### Una pequeña introducción al análisis de diagnóstico (Sin GLM)\n",
    "\n",
    "Un análisis de diagnóstico estadístico es un proceso utilizado para evaluar la adecuación de un modelo estadístico en relación con los datos que se analizan. Su objetivo principal es identificar posibles problemas o inconsistencias en el modelo, como supuestos no cumplidos, errores sistemáticos, o datos atípicos que podrían afectar la validez de las conclusiones.\n",
    "\n",
    "* [Pregibon](https://www.jstor.org/stable/2240841)\n",
    "* [Una tarea que incluye Pregibon](https://www.overleaf.com/read/vnndpmgtjszm#efc1ca)\n",
    "* [Cemento Portland (Woods, Steinour y Starke, 1932)](http://dx.doi.org/10.1021/ie50275a002)\n",
    "* [Cemento Portland (Woods, Steinour y Starke, 1932) Osorio](file:///C:/Users/kzep/Downloads/MAT468_slides-04.pdf)"
   ]
  },
  {
   "cell_type": "markdown",
   "id": "cc278d07-2947-4a33-be4b-66b1c61d8737",
   "metadata": {},
   "source": [
    "## Un pequeño repaso a aspectos de procesamiento de datos en python:"
   ]
  },
  {
   "cell_type": "code",
   "execution_count": 1,
   "id": "d00a1e8f-3856-4e5b-b567-a8e39b52df76",
   "metadata": {},
   "outputs": [],
   "source": [
    "import numpy as np\n",
    "import pandas as pd\n",
    "import os\n",
    "import matplotlib.pyplot as plt"
   ]
  },
  {
   "cell_type": "markdown",
   "id": "19c169d1-7eea-4752-8b95-ccc195e829d9",
   "metadata": {},
   "source": [
    "Si es un archivo local, siempre prefiera csv con respecto a los archivos de excel!\n",
    "* [Medium](https://medium.com/@ashwinaishvaryavardhan/read-csv-vs-read-excel-in-pandas-when-to-use-which-and-why-3d6291e1d3bd)\n",
    "* [Linkedin](https://www.linkedin.com/pulse/do-you-read-excel-files-python-1000x-fasterway-parvez-shah-onkhe/) "
   ]
  },
  {
   "cell_type": "markdown",
   "id": "150675cd-895a-42c8-9651-5809031e9de2",
   "metadata": {},
   "source": [
    "Ojo con los Nan"
   ]
  },
  {
   "cell_type": "code",
   "execution_count": 31,
   "id": "ff7d356b-ccb9-4e24-9088-c719fe9dc6d9",
   "metadata": {},
   "outputs": [
    {
     "data": {
      "text/plain": [
       "0    1.0\n",
       "1    2.0\n",
       "2    NaN\n",
       "dtype: float64"
      ]
     },
     "execution_count": 31,
     "metadata": {},
     "output_type": "execute_result"
    }
   ],
   "source": [
    "A = pd.Series([1, 2], dtype=np.int64).reindex([0, 1, 2])\n",
    "A.head()"
   ]
  },
  {
   "cell_type": "code",
   "execution_count": 5,
   "id": "5d89cff0-e691-4876-8508-98091c1a83c9",
   "metadata": {},
   "outputs": [
    {
     "data": {
      "text/plain": [
       "count    2.000000\n",
       "mean     1.500000\n",
       "std      0.707107\n",
       "min      1.000000\n",
       "25%      1.250000\n",
       "50%      1.500000\n",
       "75%      1.750000\n",
       "max      2.000000\n",
       "dtype: float64"
      ]
     },
     "execution_count": 5,
     "metadata": {},
     "output_type": "execute_result"
    }
   ],
   "source": [
    "A.describe()"
   ]
  },
  {
   "cell_type": "markdown",
   "id": "621bd927-a8af-4ffe-b244-d75c705a3f99",
   "metadata": {},
   "source": [
    "Como eliminar nan"
   ]
  },
  {
   "cell_type": "code",
   "execution_count": 8,
   "id": "ebbe2358-b30f-40e8-9c0c-3bfb5fe31fbb",
   "metadata": {},
   "outputs": [
    {
     "data": {
      "text/plain": [
       "0    1.0\n",
       "1    2.0\n",
       "dtype: float64"
      ]
     },
     "execution_count": 8,
     "metadata": {},
     "output_type": "execute_result"
    }
   ],
   "source": [
    "A.dropna()"
   ]
  },
  {
   "cell_type": "markdown",
   "id": "84c5d7b0-defa-440f-9d7b-a2ce36ece3f0",
   "metadata": {},
   "source": [
    "Como detectar nan"
   ]
  },
  {
   "cell_type": "code",
   "execution_count": 9,
   "id": "222d445c-aa3c-408f-8611-66a1494f46c5",
   "metadata": {},
   "outputs": [
    {
     "data": {
      "text/plain": [
       "0    False\n",
       "1    False\n",
       "2     True\n",
       "dtype: bool"
      ]
     },
     "execution_count": 9,
     "metadata": {},
     "output_type": "execute_result"
    }
   ],
   "source": [
    "A.isna()"
   ]
  },
  {
   "cell_type": "markdown",
   "id": "1a45a2c5-422a-4c90-ac0b-7b2a568887fd",
   "metadata": {},
   "source": [
    "Como filtrar nan"
   ]
  },
  {
   "cell_type": "code",
   "execution_count": 10,
   "id": "0eb5992e-16b2-45d0-b9aa-5061a2ad4b83",
   "metadata": {},
   "outputs": [
    {
     "data": {
      "text/plain": [
       "2   NaN\n",
       "dtype: float64"
      ]
     },
     "execution_count": 10,
     "metadata": {},
     "output_type": "execute_result"
    }
   ],
   "source": [
    "A[A.isna()]"
   ]
  },
  {
   "cell_type": "markdown",
   "id": "06ddbff6-8894-479d-a4ef-e052990c7894",
   "metadata": {},
   "source": [
    "Transformemos la serie en un dataframe"
   ]
  },
  {
   "cell_type": "code",
   "execution_count": 33,
   "id": "b3e9c238-00fe-4d2e-af1d-2e6ebd38b026",
   "metadata": {},
   "outputs": [
    {
     "data": {
      "text/html": [
       "<div>\n",
       "<style scoped>\n",
       "    .dataframe tbody tr th:only-of-type {\n",
       "        vertical-align: middle;\n",
       "    }\n",
       "\n",
       "    .dataframe tbody tr th {\n",
       "        vertical-align: top;\n",
       "    }\n",
       "\n",
       "    .dataframe thead th {\n",
       "        text-align: right;\n",
       "    }\n",
       "</style>\n",
       "<table border=\"1\" class=\"dataframe\">\n",
       "  <thead>\n",
       "    <tr style=\"text-align: right;\">\n",
       "      <th></th>\n",
       "      <th>0</th>\n",
       "    </tr>\n",
       "  </thead>\n",
       "  <tbody>\n",
       "    <tr>\n",
       "      <th>0</th>\n",
       "      <td>1.0</td>\n",
       "    </tr>\n",
       "    <tr>\n",
       "      <th>1</th>\n",
       "      <td>2.0</td>\n",
       "    </tr>\n",
       "    <tr>\n",
       "      <th>2</th>\n",
       "      <td>NaN</td>\n",
       "    </tr>\n",
       "  </tbody>\n",
       "</table>\n",
       "</div>"
      ],
      "text/plain": [
       "     0\n",
       "0  1.0\n",
       "1  2.0\n",
       "2  NaN"
      ]
     },
     "execution_count": 33,
     "metadata": {},
     "output_type": "execute_result"
    }
   ],
   "source": [
    "A.to_frame()"
   ]
  },
  {
   "cell_type": "markdown",
   "id": "ab63238e-6042-4354-8190-a119459cf7cc",
   "metadata": {},
   "source": [
    "Note que podemos iterar las filas"
   ]
  },
  {
   "cell_type": "code",
   "execution_count": 30,
   "id": "ae737021-9f7f-4250-92b6-08fd843456e1",
   "metadata": {},
   "outputs": [
    {
     "name": "stdout",
     "output_type": "stream",
     "text": [
      "0    1.0\n",
      "Name: 0, dtype: float64\n",
      "0    2.0\n",
      "Name: 1, dtype: float64\n",
      "0   NaN\n",
      "Name: 2, dtype: float64\n"
     ]
    }
   ],
   "source": [
    "for index, row in A.iterrows():\n",
    "    print(row )"
   ]
  },
  {
   "cell_type": "markdown",
   "id": "eb20bf8a-3516-425e-8c89-3312be91c356",
   "metadata": {},
   "source": [
    "Ojo que si no se redefine A, no se guardan los cambios sobre el dataframe, por lo que esta cosa deberia tirar error"
   ]
  },
  {
   "cell_type": "code",
   "execution_count": 35,
   "id": "eee0e913-9744-4815-89d8-06a144db8754",
   "metadata": {},
   "outputs": [
    {
     "name": "stdout",
     "output_type": "stream",
     "text": [
      "0    1.0\n",
      "Name: 0, dtype: float64\n",
      "0    2.0\n",
      "Name: 1, dtype: float64\n",
      "0   NaN\n",
      "Name: 2, dtype: float64\n"
     ]
    }
   ],
   "source": [
    "A = A.to_frame()\n",
    "for index, row in A.iterrows():\n",
    "    print(row )"
   ]
  },
  {
   "cell_type": "markdown",
   "id": "2f42d490-e6be-40d8-a06f-a3cf99d7f810",
   "metadata": {},
   "source": [
    "llenar Na"
   ]
  },
  {
   "cell_type": "code",
   "execution_count": 42,
   "id": "4b980594-86b9-484f-9a9d-2b1d329222e7",
   "metadata": {},
   "outputs": [
    {
     "data": {
      "text/html": [
       "<div>\n",
       "<style scoped>\n",
       "    .dataframe tbody tr th:only-of-type {\n",
       "        vertical-align: middle;\n",
       "    }\n",
       "\n",
       "    .dataframe tbody tr th {\n",
       "        vertical-align: top;\n",
       "    }\n",
       "\n",
       "    .dataframe thead th {\n",
       "        text-align: right;\n",
       "    }\n",
       "</style>\n",
       "<table border=\"1\" class=\"dataframe\">\n",
       "  <thead>\n",
       "    <tr style=\"text-align: right;\">\n",
       "      <th></th>\n",
       "      <th>0</th>\n",
       "    </tr>\n",
       "  </thead>\n",
       "  <tbody>\n",
       "    <tr>\n",
       "      <th>0</th>\n",
       "      <td>1.0</td>\n",
       "    </tr>\n",
       "    <tr>\n",
       "      <th>1</th>\n",
       "      <td>2.0</td>\n",
       "    </tr>\n",
       "    <tr>\n",
       "      <th>2</th>\n",
       "      <td>0.0</td>\n",
       "    </tr>\n",
       "  </tbody>\n",
       "</table>\n",
       "</div>"
      ],
      "text/plain": [
       "     0\n",
       "0  1.0\n",
       "1  2.0\n",
       "2  0.0"
      ]
     },
     "execution_count": 42,
     "metadata": {},
     "output_type": "execute_result"
    }
   ],
   "source": [
    "A = A.fillna(0)\n",
    "A"
   ]
  },
  {
   "cell_type": "markdown",
   "id": "5fd7ed1e-46e8-47bf-a519-789ba4b447a2",
   "metadata": {},
   "source": [
    "Filas columnas duplicadas"
   ]
  },
  {
   "cell_type": "code",
   "execution_count": 40,
   "id": "ebe905e5-09e0-4e98-b9ce-dcbb289bc26d",
   "metadata": {},
   "outputs": [
    {
     "data": {
      "text/html": [
       "<div>\n",
       "<style scoped>\n",
       "    .dataframe tbody tr th:only-of-type {\n",
       "        vertical-align: middle;\n",
       "    }\n",
       "\n",
       "    .dataframe tbody tr th {\n",
       "        vertical-align: top;\n",
       "    }\n",
       "\n",
       "    .dataframe thead th {\n",
       "        text-align: right;\n",
       "    }\n",
       "</style>\n",
       "<table border=\"1\" class=\"dataframe\">\n",
       "  <thead>\n",
       "    <tr style=\"text-align: right;\">\n",
       "      <th></th>\n",
       "      <th>A</th>\n",
       "      <th>A</th>\n",
       "      <th>B</th>\n",
       "    </tr>\n",
       "  </thead>\n",
       "  <tbody>\n",
       "    <tr>\n",
       "      <th>0</th>\n",
       "      <td>0</td>\n",
       "      <td>1</td>\n",
       "      <td>2</td>\n",
       "    </tr>\n",
       "    <tr>\n",
       "      <th>1</th>\n",
       "      <td>3</td>\n",
       "      <td>4</td>\n",
       "      <td>5</td>\n",
       "    </tr>\n",
       "  </tbody>\n",
       "</table>\n",
       "</div>"
      ],
      "text/plain": [
       "   A  A  B\n",
       "0  0  1  2\n",
       "1  3  4  5"
      ]
     },
     "execution_count": 40,
     "metadata": {},
     "output_type": "execute_result"
    }
   ],
   "source": [
    "B = pd.DataFrame([[0, 1, 2], [3, 4, 5]], columns=[\"A\", \"A\", \"B\"])\n",
    "B"
   ]
  },
  {
   "cell_type": "code",
   "execution_count": 38,
   "id": "db0e2dfc-a827-4357-90e5-4603ec1afc00",
   "metadata": {},
   "outputs": [
    {
     "data": {
      "text/plain": [
       "True"
      ]
     },
     "execution_count": 38,
     "metadata": {},
     "output_type": "execute_result"
    }
   ],
   "source": [
    "B.index.is_unique\n"
   ]
  },
  {
   "cell_type": "code",
   "execution_count": 39,
   "id": "8c2faad4-86e6-492c-8ced-c0e4e9b7cb97",
   "metadata": {},
   "outputs": [
    {
     "data": {
      "text/plain": [
       "False"
      ]
     },
     "execution_count": 39,
     "metadata": {},
     "output_type": "execute_result"
    }
   ],
   "source": [
    "B.columns.is_unique"
   ]
  },
  {
   "cell_type": "code",
   "execution_count": 51,
   "id": "31d08075-d1ea-4f49-9fbb-6919bad48885",
   "metadata": {},
   "outputs": [
    {
     "data": {
      "text/plain": [
       "Index(['A', 'A', 'B'], dtype='object')"
      ]
     },
     "execution_count": 51,
     "metadata": {},
     "output_type": "execute_result"
    }
   ],
   "source": [
    "B.columns"
   ]
  },
  {
   "cell_type": "code",
   "execution_count": 53,
   "id": "689eff03-c0c8-4ade-b656-7655d71785f7",
   "metadata": {},
   "outputs": [],
   "source": [
    "A[\"A\"] = \"000\""
   ]
  },
  {
   "cell_type": "code",
   "execution_count": 56,
   "id": "7ec07b72-2dd9-4f7c-ae75-22cc926d591a",
   "metadata": {},
   "outputs": [
    {
     "data": {
      "text/plain": [
       "[0, 'A']"
      ]
     },
     "execution_count": 56,
     "metadata": {},
     "output_type": "execute_result"
    }
   ],
   "source": [
    "A.columns.tolist()"
   ]
  },
  {
   "cell_type": "markdown",
   "id": "32c6c1d6-1a7d-4310-bee7-ccc20bff1dda",
   "metadata": {},
   "source": [
    "#### Los famosos Groupby\n",
    "\n",
    "\n",
    "Esta función en Pandas se utiliza para agrupar datos en un DataFrame según una o más columnas. Esto es útil para realizar operaciones de agregación, como sumar, contar o calcular la media de los datos en cada grupo.\n",
    "\n",
    "Pasos para usar groupby\n",
    "1. Seleccionar la columna o columnas para agrupar: Puedes agrupar por una o más columnas.\n",
    "2. Aplicar una función de agregación: Después de agrupar, puedes aplicar funciones como sum(), mean(), count(), etc.\n",
    "\n",
    "   \n",
    "##### Ejemplo\n"
   ]
  },
  {
   "cell_type": "code",
   "execution_count": 63,
   "id": "7455856c-ddbf-46b0-8684-39d94d50dccf",
   "metadata": {},
   "outputs": [
    {
     "name": "stdout",
     "output_type": "stream",
     "text": [
      "Departamento\n",
      "HR           105000\n",
      "IT           225000\n",
      "Marketing     60000\n",
      "Name: Salario, dtype: int64\n"
     ]
    }
   ],
   "source": [
    "# Crear un DataFrame de ejemplo\n",
    "data = {\n",
    "    'Departamento': ['IT', 'HR', 'IT', 'Marketing', 'HR', 'IT'],\n",
    "    'Empleado': ['Juan', 'Ana', 'Andrés', 'Luis', 'Joaquín', 'Sofia'],\n",
    "    'Salario': [70000, 50000, 80000, 60000, 55000, 75000]\n",
    "}\n",
    "\n",
    "df = pd.DataFrame(data)\n",
    "\n",
    "# Agrupar por 'Departamento' y calcular la suma de los salarios\n",
    "suma_salarios = df.groupby('Departamento')['Salario'].sum()\n",
    "\n",
    "# Mostrar el resultado\n",
    "print(suma_salarios)"
   ]
  },
  {
   "cell_type": "markdown",
   "id": "06aa2c55-c99c-4d76-a666-d4983eba37cc",
   "metadata": {},
   "source": [
    "#### Los Join\n",
    "\n",
    "\n",
    "Los joins se utilizan para combinar dos o más DataFrames en función de una o más columnas clave. \n",
    "\n",
    "1. Inner Join: Devuelve solo las filas que tienen coincidencias en ambos DataFrames.\n",
    "3. Outer Join: Devuelve todas las filas de ambos DataFrames, llenando con NaN donde no hay coincidencias.\n",
    "4. Left Join: Devuelve todas las filas del DataFrame de la izquierda y las filas coincidentes del DataFrame de la derecha. \n",
    "5. Right Join: Devuelve todas las filas del DataFrame de la derecha y las filas coincidentes del DataFrame de la izquierda.\n",
    " \n",
    "\n",
    "\n",
    "###### Ejemplo "
   ]
  },
  {
   "cell_type": "code",
   "execution_count": 62,
   "id": "9f9fd31e-9df1-49fe-b81d-8020ae5e5891",
   "metadata": {},
   "outputs": [
    {
     "name": "stdout",
     "output_type": "stream",
     "text": [
      "Tabla original:\n",
      "    EmpleadoID Nombre\n",
      "0           1   Juan\n",
      "1           2    Ana\n",
      "2           3  Pedro\n",
      "3           4   Luis\n",
      "Inner Join:\n",
      "    EmpleadoID Nombre  Salario\n",
      "0           3  Pedro    80000\n",
      "1           4   Luis    60000\n",
      "\n",
      "Outer Join:\n",
      "    EmpleadoID Nombre  Salario\n",
      "0           1   Juan      NaN\n",
      "1           2    Ana      NaN\n",
      "2           3  Pedro  80000.0\n",
      "3           4   Luis  60000.0\n",
      "4           5    NaN  70000.0\n",
      "5           6    NaN  50000.0\n",
      "\n",
      "Left Join:\n",
      "    EmpleadoID Nombre  Salario\n",
      "0           1   Juan      NaN\n",
      "1           2    Ana      NaN\n",
      "2           3  Pedro  80000.0\n",
      "3           4   Luis  60000.0\n",
      "\n",
      "Right Join:\n",
      "    EmpleadoID Nombre  Salario\n",
      "0           3  Pedro    80000\n",
      "1           4   Luis    60000\n",
      "2           5    NaN    70000\n",
      "3           6    NaN    50000\n"
     ]
    }
   ],
   "source": [
    "# Crear DataFrames de ejemplo\n",
    "df1 = pd.DataFrame({\n",
    "    'EmpleadoID': [1, 2, 3, 4],\n",
    "    'Nombre': ['Juan', 'Ana', \"Andrés\", 'Luis']\n",
    "})\n",
    "print(\"Tabla original:\\n\", df1)\n",
    "df2 = pd.DataFrame({\n",
    "    'EmpleadoID': [3, 4, 5, 6],\n",
    "    'Salario': [80000, 60000, 70000, 50000]\n",
    "})\n",
    "\n",
    "# Inner Join\n",
    "inner_join = pd.merge(df1, df2, on='EmpleadoID', how='inner')\n",
    "print(\"Inner Join:\\n\", inner_join)\n",
    "\n",
    "# Outer Join\n",
    "outer_join = pd.merge(df1, df2, on='EmpleadoID', how='outer')\n",
    "print(\"\\nOuter Join:\\n\", outer_join)\n",
    "\n",
    "# Left Join\n",
    "left_join = pd.merge(df1, df2, on='EmpleadoID', how='left')\n",
    "print(\"\\nLeft Join:\\n\", left_join)\n",
    "\n",
    "# Right Join\n",
    "right_join = pd.merge(df1, df2, on='EmpleadoID', how='right')\n",
    "print(\"\\nRight Join:\\n\", right_join)"
   ]
  },
  {
   "cell_type": "markdown",
   "id": "a73bc1c2-81cf-4ab7-8eab-1faf0f6bc26d",
   "metadata": {},
   "source": [
    "Finalmente, otro tip para realizar busquedas:"
   ]
  },
  {
   "cell_type": "code",
   "execution_count": 64,
   "id": "a58ef427-b66d-4d38-97c2-d0367ba83993",
   "metadata": {},
   "outputs": [
    {
     "data": {
      "text/html": [
       "<div>\n",
       "<style scoped>\n",
       "    .dataframe tbody tr th:only-of-type {\n",
       "        vertical-align: middle;\n",
       "    }\n",
       "\n",
       "    .dataframe tbody tr th {\n",
       "        vertical-align: top;\n",
       "    }\n",
       "\n",
       "    .dataframe thead th {\n",
       "        text-align: right;\n",
       "    }\n",
       "</style>\n",
       "<table border=\"1\" class=\"dataframe\">\n",
       "  <thead>\n",
       "    <tr style=\"text-align: right;\">\n",
       "      <th></th>\n",
       "      <th>Departamento</th>\n",
       "      <th>Empleado</th>\n",
       "      <th>Salario</th>\n",
       "    </tr>\n",
       "  </thead>\n",
       "  <tbody>\n",
       "    <tr>\n",
       "      <th>0</th>\n",
       "      <td>IT</td>\n",
       "      <td>Juan</td>\n",
       "      <td>70000</td>\n",
       "    </tr>\n",
       "  </tbody>\n",
       "</table>\n",
       "</div>"
      ],
      "text/plain": [
       "  Departamento Empleado  Salario\n",
       "0           IT     Juan    70000"
      ]
     },
     "execution_count": 64,
     "metadata": {},
     "output_type": "execute_result"
    }
   ],
   "source": [
    "df[df[\"Empleado\"]==\"Juan\"]"
   ]
  }
 ],
 "metadata": {
  "kernelspec": {
   "display_name": "Python 3 (ipykernel)",
   "language": "python",
   "name": "python3"
  },
  "language_info": {
   "codemirror_mode": {
    "name": "ipython",
    "version": 3
   },
   "file_extension": ".py",
   "mimetype": "text/x-python",
   "name": "python",
   "nbconvert_exporter": "python",
   "pygments_lexer": "ipython3",
   "version": "3.11.7"
  }
 },
 "nbformat": 4,
 "nbformat_minor": 5
}
